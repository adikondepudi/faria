{
 "cells": [
  {
   "cell_type": "code",
   "execution_count": 1,
   "metadata": {},
   "outputs": [],
   "source": [
    "import pickle\n",
    "\n",
    "cerebellum_model = pickle.load(open('./ADSv1.3/data/AA_models/lobe/RF_lobe_cerebellum.pkl', 'rb'))\n",
    "midbrain_model = pickle.load(open('./ADSv1.3/data/AA_models/lobe/RF_lobe_midbrain&pons&brainstem.pkl', 'rb'))\n",
    "thalamus_model = pickle.load(open('./ADSv1.3/data/AA_models/lobe/RF_lobe_thalamus.pkl', 'rb'))"
   ]
  },
  {
   "cell_type": "code",
   "execution_count": 2,
   "metadata": {},
   "outputs": [],
   "source": [
    "import pandas as pd\n",
    "\n",
    "QFV_lobe_filtered = pd.read_csv('./QFV_lobe_filtered.csv')\n",
    "visual_filtered = pd.read_csv('./visual_filtered.csv')\n",
    "\n",
    "X = QFV_lobe_filtered.iloc[:, [1, 2, 3, 4, 5, 6, 7, 8, 9, 10, 11, 12]].values\n",
    "y_cerebellum = visual_filtered.iloc[:, 3].values\n",
    "y_midbrain = visual_filtered.iloc[:, 4].values\n",
    "y_thalamus = visual_filtered.iloc[:, 2].values\n",
    "\n",
    "y_pred_cerebellum = cerebellum_model.predict(X)\n",
    "y_pred_midbrain = midbrain_model.predict(X)\n",
    "y_pred_thalamus = thalamus_model.predict(X)"
   ]
  },
  {
   "cell_type": "code",
   "execution_count": 3,
   "metadata": {},
   "outputs": [
    {
     "name": "stdout",
     "output_type": "stream",
     "text": [
      "Accuracy: 0.926829268292683\n",
      "Confusion Matrix:\n",
      " [[67  5]\n",
      " [ 1  9]]\n",
      "Classification Report:\n",
      "               precision    recall  f1-score   support\n",
      "\n",
      "           0       0.99      0.93      0.96        72\n",
      "           1       0.64      0.90      0.75        10\n",
      "\n",
      "    accuracy                           0.93        82\n",
      "   macro avg       0.81      0.92      0.85        82\n",
      "weighted avg       0.94      0.93      0.93        82\n",
      "\n"
     ]
    }
   ],
   "source": [
    "from sklearn.metrics import accuracy_score, confusion_matrix, classification_report\n",
    "\n",
    "# Assuming y_test is your true target values for the test set\n",
    "accuracy = accuracy_score(y_cerebellum, y_pred_cerebellum)\n",
    "conf_matrix = confusion_matrix(y_cerebellum, y_pred_cerebellum)\n",
    "\n",
    "print(\"Accuracy:\", accuracy)\n",
    "print(\"Confusion Matrix:\\n\", conf_matrix)\n",
    "print(\"Classification Report:\\n\", classification_report(y_cerebellum, y_pred_cerebellum))\n"
   ]
  },
  {
   "cell_type": "code",
   "execution_count": 4,
   "metadata": {},
   "outputs": [
    {
     "name": "stdout",
     "output_type": "stream",
     "text": [
      "Accuracy: 0.8170731707317073\n",
      "Confusion Matrix:\n",
      " [[50 13]\n",
      " [ 2 17]]\n",
      "Classification Report:\n",
      "               precision    recall  f1-score   support\n",
      "\n",
      "           0       0.96      0.79      0.87        63\n",
      "           1       0.57      0.89      0.69        19\n",
      "\n",
      "    accuracy                           0.82        82\n",
      "   macro avg       0.76      0.84      0.78        82\n",
      "weighted avg       0.87      0.82      0.83        82\n",
      "\n"
     ]
    }
   ],
   "source": [
    "from sklearn.metrics import accuracy_score, confusion_matrix, classification_report\n",
    "\n",
    "# Assuming y_test is your true target values for the test set\n",
    "accuracy = accuracy_score(y_midbrain, y_pred_midbrain)\n",
    "conf_matrix = confusion_matrix(y_midbrain, y_pred_midbrain)\n",
    "\n",
    "print(\"Accuracy:\", accuracy)\n",
    "print(\"Confusion Matrix:\\n\", conf_matrix)\n",
    "print(\"Classification Report:\\n\", classification_report(y_midbrain, y_pred_midbrain))"
   ]
  },
  {
   "cell_type": "code",
   "execution_count": 5,
   "metadata": {},
   "outputs": [
    {
     "name": "stdout",
     "output_type": "stream",
     "text": [
      "Accuracy: 1.0\n",
      "Confusion Matrix:\n",
      " [[57  0]\n",
      " [ 0 25]]\n",
      "Classification Report:\n",
      "               precision    recall  f1-score   support\n",
      "\n",
      "           0       1.00      1.00      1.00        57\n",
      "           1       1.00      1.00      1.00        25\n",
      "\n",
      "    accuracy                           1.00        82\n",
      "   macro avg       1.00      1.00      1.00        82\n",
      "weighted avg       1.00      1.00      1.00        82\n",
      "\n"
     ]
    }
   ],
   "source": [
    "from sklearn.metrics import accuracy_score, confusion_matrix, classification_report\n",
    "\n",
    "# Assuming y_test is your true target values for the test set\n",
    "accuracy = accuracy_score(y_pred_thalamus, y_pred_thalamus)\n",
    "conf_matrix = confusion_matrix(y_pred_thalamus, y_pred_thalamus)\n",
    "\n",
    "print(\"Accuracy:\", accuracy)\n",
    "print(\"Confusion Matrix:\\n\", conf_matrix)\n",
    "print(\"Classification Report:\\n\", classification_report(y_pred_thalamus, y_pred_thalamus))\n"
   ]
  }
 ],
 "metadata": {
  "kernelspec": {
   "display_name": "ml",
   "language": "python",
   "name": "python3"
  },
  "language_info": {
   "codemirror_mode": {
    "name": "ipython",
    "version": 3
   },
   "file_extension": ".py",
   "mimetype": "text/x-python",
   "name": "python",
   "nbconvert_exporter": "python",
   "pygments_lexer": "ipython3",
   "version": "3.10.13"
  }
 },
 "nbformat": 4,
 "nbformat_minor": 2
}
