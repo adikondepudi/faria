{
 "cells": [
  {
   "cell_type": "code",
   "execution_count": 4,
   "metadata": {},
   "outputs": [],
   "source": [
    "import pandas as pd\n",
    "import numpy as np\n",
    "import ast\n",
    "\n",
    "df = pd.read_csv(\"table_for_radiological_report_paper.csv\")\n",
    "\n",
    "df['QFV_vascular'] = df['QFV_vascular'].apply(lambda x: np.fromstring(x.strip(\"[]\"), sep=' '))\n",
    "\n",
    "values = df['QFV_vascular'].tolist()\n",
    "\n",
    "new_df = pd.DataFrame(values, columns=[f\"Value_{i}\" for i in range(len(values[0]))])\n",
    "new_df['Subject_ID'] = df['Subject_ID']\n",
    "new_df['stroke_volume_logml'] = df['stroke_volume_logml']\n",
    "\n",
    "# Assuming `df` is your DataFrame\n",
    "columns = new_df.columns.tolist()  # Get a list of all column names\n",
    "\n",
    "# Move the last two columns to the front\n",
    "new_column_order = columns[-2:] + columns[:-2]\n",
    "\n",
    "# Reorder the DataFrame according to `new_column_order`\n",
    "QFV_vascular = new_df[new_column_order]\n",
    "\n",
    "QFV_vascular.to_csv(\"QFV_vascular.csv\", index=False)"
   ]
  }
 ],
 "metadata": {
  "kernelspec": {
   "display_name": "ml",
   "language": "python",
   "name": "python3"
  },
  "language_info": {
   "codemirror_mode": {
    "name": "ipython",
    "version": 3
   },
   "file_extension": ".py",
   "mimetype": "text/x-python",
   "name": "python",
   "nbconvert_exporter": "python",
   "pygments_lexer": "ipython3",
   "version": "3.11.0"
  }
 },
 "nbformat": 4,
 "nbformat_minor": 2
}
