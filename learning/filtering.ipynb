{
 "cells": [
  {
   "cell_type": "code",
   "execution_count": 1,
   "metadata": {},
   "outputs": [],
   "source": [
    "import pandas as pd\n",
    "import numpy as np"
   ]
  },
  {
   "cell_type": "code",
   "execution_count": 21,
   "metadata": {},
   "outputs": [],
   "source": [
    "import os\n",
    "import re\n",
    "import pandas as pd\n",
    "\n",
    "# Get the current working directory as the base path\n",
    "base_path = os.getcwd()\n",
    "\n",
    "# Paths to the main CSV file and the folders with additional data\n",
    "main_csv_path = os.path.join(base_path, 'main.csv')\n",
    "loading_lobe_folder = os.path.join(base_path, 'loadingLobe/')\n",
    "loading_vasc_folder = os.path.join(base_path, 'loadingVasc/')\n",
    "\n",
    "# Read the main CSV file into a pandas DataFrame with subject IDs as index\n",
    "main_df = pd.read_csv(main_csv_path, index_col=0)\n",
    "\n",
    "# Function to extract subject ID from filename using regular expression\n",
    "def extract_subject_id(filename):\n",
    "    match = re.search(r'sub-\\w+', filename)\n",
    "    if match:\n",
    "        return match.group()\n",
    "    return None\n",
    "\n",
    "# Iterate through the files in loadingLobe folder\n",
    "for filename in os.listdir(loading_lobe_folder):\n",
    "    if filename.endswith('_loadingLobe.csv'):\n",
    "        subject_id = extract_subject_id(filename)  # Extract subject ID from file name\n",
    "        if subject_id and subject_id in main_df.index:\n",
    "            file_path = os.path.join(loading_lobe_folder, filename)\n",
    "            data_df = pd.read_csv(file_path, index_col=0)  # Read data from loadingLobe file with subject IDs as index\n",
    "            common_columns = main_df.columns.intersection(data_df.columns)\n",
    "            main_df.loc[subject_id, common_columns] = data_df.loc[:, common_columns].values\n",
    "\n",
    "# Iterate through the files in loadingVasc folder\n",
    "for filename in os.listdir(loading_vasc_folder):\n",
    "    if filename.endswith('_loadingVasc.csv'):\n",
    "        subject_id = extract_subject_id(filename)  # Extract subject ID from file name\n",
    "        if subject_id and subject_id in main_df.index:\n",
    "            file_path = os.path.join(loading_vasc_folder, filename)\n",
    "            data_df = pd.read_csv(file_path, index_col=0)  # Read data from loadingVasc file with subject IDs as index\n",
    "            common_columns = main_df.columns.intersection(data_df.columns)\n",
    "            main_df.loc[subject_id, common_columns] = data_df.loc[:, common_columns].values\n",
    "\n",
    "# Save the updated main DataFrame to the main CSV file\n",
    "main_df.to_csv(main_csv_path)\n"
   ]
  }
 ],
 "metadata": {
  "kernelspec": {
   "display_name": "dt",
   "language": "python",
   "name": "python3"
  },
  "language_info": {
   "codemirror_mode": {
    "name": "ipython",
    "version": 3
   },
   "file_extension": ".py",
   "mimetype": "text/x-python",
   "name": "python",
   "nbconvert_exporter": "python",
   "pygments_lexer": "ipython3",
   "version": "3.11.5"
  }
 },
 "nbformat": 4,
 "nbformat_minor": 2
}
