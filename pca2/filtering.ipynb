{
 "cells": [
  {
   "cell_type": "code",
   "execution_count": 1,
   "metadata": {},
   "outputs": [],
   "source": [
    "import pandas as pd\n",
    "import numpy as np"
   ]
  },
  {
   "cell_type": "code",
   "execution_count": 6,
   "metadata": {},
   "outputs": [],
   "source": [
    "df = pd.read_csv('adi_PCASPECTS_RadiologicalTable_fake.csv', index_col=0)"
   ]
  },
  {
   "cell_type": "code",
   "execution_count": null,
   "metadata": {},
   "outputs": [],
   "source": [
    "import os\n",
    "import pandas as pd\n",
    "\n",
    "# Set the base path where the main CSV file and the folders with additional data are located\n",
    "base_path = 'path/to/base/folder/'\n",
    "\n",
    "# Paths to the main CSV file and the folders with additional data\n",
    "main_csv_path = os.path.join(base_path, 'main.csv')\n",
    "loading_love_folder = os.path.join(base_path, 'loadingLove/')\n",
    "loading_vasc_folder = os.path.join(base_path, 'loadingVasc/')\n",
    "\n",
    "# Read the main CSV file into a pandas DataFrame\n",
    "main_df = pd.read_csv(main_csv_path, index_col=0)\n",
    "\n",
    "# Iterate through the files in loadingLove folder\n",
    "for filename in os.listdir(loading_love_folder):\n",
    "    if filename.endswith('_loadingLove.csv'):\n",
    "        subject_id = filename.replace('_loadingLove.csv', '')  # Extract subject ID from file name\n",
    "        file_path = os.path.join(loading_love_folder, filename)\n",
    "        data_df = pd.read_csv(file_path, index_col=0)  # Read data from loadingLove file\n",
    "        for column in data_df.columns:\n",
    "            if column in main_df.columns:\n",
    "                main_df.at[subject_id, column] = data_df.at[subject_id, column]\n",
    "\n",
    "# Iterate through the files in loadingVasc folder\n",
    "for filename in os.listdir(loading_vasc_folder):\n",
    "    if filename.endswith('_loadingVasc.csv'):\n",
    "        subject_id = filename.replace('_loadingVasc.csv', '')  # Extract subject ID from file name\n",
    "        file_path = os.path.join(loading_vasc_folder, filename)\n",
    "        data_df = pd.read_csv(file_path, index_col=0)  # Read data from loadingVasc file\n",
    "        for column in data_df.columns:\n",
    "            if column in main_df.columns:\n",
    "                main_df.at[subject_id, column] = data_df.at[subject_id, column]\n",
    "\n",
    "# Save the updated main DataFrame to the main CSV file\n",
    "main_df.to_csv(main_csv_path)\n"
   ]
  }
 ],
 "metadata": {
  "kernelspec": {
   "display_name": "dt",
   "language": "python",
   "name": "python3"
  },
  "language_info": {
   "codemirror_mode": {
    "name": "ipython",
    "version": 3
   },
   "file_extension": ".py",
   "mimetype": "text/x-python",
   "name": "python",
   "nbconvert_exporter": "python",
   "pygments_lexer": "ipython3",
   "version": "3.11.5"
  }
 },
 "nbformat": 4,
 "nbformat_minor": 2
}
