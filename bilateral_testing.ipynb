{
 "cells": [
  {
   "cell_type": "code",
   "execution_count": 2,
   "metadata": {},
   "outputs": [],
   "source": [
    "import pandas as pd\n",
    "\n",
    "df = pd.read_csv('complete_vol_visual_jun24.csv')"
   ]
  },
  {
   "cell_type": "code",
   "execution_count": 3,
   "metadata": {},
   "outputs": [
    {
     "name": "stdout",
     "output_type": "stream",
     "text": [
      "Cross-validated scores: [0.92857143 0.92857143 1.         0.85185185 0.85185185]\n",
      "Average cross-validation score: 0.9121693121693122\n",
      "Accuracy of the model on the test set: 0.9285714285714286\n",
      "\n",
      "Confusion Matrix:\n",
      " [[26  0]\n",
      " [ 2  0]]\n",
      "\n",
      "Misclassified instances:\n",
      "     PCAL_x  PCAR_x  Actual  Predicted\n",
      "415    2564    2301       1          0\n",
      "468    2587    2444       1          0\n"
     ]
    },
    {
     "name": "stderr",
     "output_type": "stream",
     "text": [
      "/var/folders/dk/ntqqxtcj77d6kpjl7pz6dbbr0000gn/T/ipykernel_8575/2777449430.py:12: SettingWithCopyWarning: \n",
      "A value is trying to be set on a copy of a slice from a DataFrame.\n",
      "Try using .loc[row_indexer,col_indexer] = value instead\n",
      "\n",
      "See the caveats in the documentation: https://pandas.pydata.org/pandas-docs/stable/user_guide/indexing.html#returning-a-view-versus-a-copy\n",
      "  PCA['PCA'] = PCA['PCA'].replace({1: 0, 2: 0, 3: 1})\n"
     ]
    }
   ],
   "source": [
    "import pandas as pd\n",
    "from sklearn.model_selection import train_test_split, cross_val_score, KFold\n",
    "from sklearn.linear_model import LogisticRegression\n",
    "from sklearn.metrics import accuracy_score, confusion_matrix\n",
    "from sklearn.preprocessing import StandardScaler\n",
    "from sklearn.svm import SVC\n",
    "\n",
    "# Assuming 'df' is your DataFrame\n",
    "PCA = df[df['PCA'] != 0]\n",
    "\n",
    "# Recoding the target variable\n",
    "PCA['PCA'] = PCA['PCA'].replace({1: 0, 2: 0, 3: 1})\n",
    "\n",
    "X = pd.concat([PCA['PCAL_x'], PCA['PCAR_x']], axis=1)\n",
    "y = PCA['PCA']\n",
    "\n",
    "# Set up cross-validation\n",
    "kf = KFold(n_splits=5, shuffle=True, random_state=42)\n",
    "\n",
    "# Configure the Logistic Regression model for binary classification\n",
    "model = SVC(kernel='rbf', class_weight='balanced', gamma='auto')\n",
    "\n",
    "# Perform cross-validation\n",
    "cv_scores = cross_val_score(model, X, y, cv=kf)\n",
    "\n",
    "# Print cross-validated scores\n",
    "print(\"Cross-validated scores:\", cv_scores)\n",
    "print(\"Average cross-validation score:\", cv_scores.mean())\n",
    "\n",
    "# Splitting the data\n",
    "X_train, X_test, y_train, y_test = train_test_split(X, y, test_size=0.2, random_state=42, stratify=y)\n",
    "\n",
    "# Fitting the model\n",
    "model.fit(X_train, y_train)\n",
    "\n",
    "# Making predictions\n",
    "y_pred = model.predict(X_test)\n",
    "\n",
    "# Evaluate the model\n",
    "accuracy = accuracy_score(y_test, y_pred)\n",
    "conf_matrix = confusion_matrix(y_test, y_pred)\n",
    "\n",
    "print(\"Accuracy of the model on the test set:\", accuracy)\n",
    "print(\"\")\n",
    "print(\"Confusion Matrix:\\n\", conf_matrix)\n",
    "\n",
    "# Create a DataFrame with the test set and predictions\n",
    "results_df = pd.DataFrame(X_test)\n",
    "results_df['Actual'] = y_test\n",
    "results_df['Predicted'] = y_pred\n",
    "\n",
    "# Filter the DataFrame to only include misclassified instances\n",
    "misclassified = results_df[results_df['Actual'] != results_df['Predicted']]\n",
    "\n",
    "print(\"\")\n",
    "print(\"Misclassified instances:\")\n",
    "print(misclassified)"
   ]
  },
  {
   "cell_type": "markdown",
   "metadata": {},
   "source": [
    "### Misclassified PCA IDs\n",
    "#### sub-2bd4552c\n",
    "#### sub-1b7deaf6"
   ]
  },
  {
   "cell_type": "code",
   "execution_count": 4,
   "metadata": {},
   "outputs": [
    {
     "name": "stdout",
     "output_type": "stream",
     "text": [
      "Cross-validated scores: [0.90625 1.      1.      1.      1.     ]\n",
      "Average cross-validation score: 0.98125\n",
      "Accuracy of the model on the test set: 0.96875\n",
      "\n",
      "Confusion Matrix:\n",
      " [[16  0  0]\n",
      " [ 0 15  0]\n",
      " [ 1  0  0]]\n",
      "\n",
      "Misclassified instances:\n",
      "     ThalamusL_x  ThalamusR_x  Actual  Predicted\n",
      "465         2876          729       3          1\n"
     ]
    }
   ],
   "source": [
    "import pandas as pd\n",
    "from sklearn.model_selection import train_test_split, cross_val_score, KFold\n",
    "from sklearn.linear_model import LogisticRegression\n",
    "from sklearn.metrics import accuracy_score, confusion_matrix\n",
    "from sklearn.preprocessing import StandardScaler\n",
    "\n",
    "Thalamus = df\n",
    "Thalamus = Thalamus[Thalamus['Thalamus'] != 0]\n",
    "\n",
    "X = pd.concat([Thalamus['ThalamusL_x'], Thalamus['ThalamusR_x']], axis=1)\n",
    "y = Thalamus['Thalamus']\n",
    "\n",
    "# Set up cross-validation:\n",
    "kf = KFold(n_splits=5, shuffle=True, random_state=42)\n",
    "\n",
    "model = LogisticRegression(multi_class='multinomial', solver='lbfgs', max_iter=1000, class_weight='balanced')\n",
    "\n",
    "# Perform cross-validation:\n",
    "cv_scores = cross_val_score(model, X, y, cv=kf)\n",
    "\n",
    "# Print cross-validated scores:\n",
    "print(\"Cross-validated scores:\", cv_scores)\n",
    "print(\"Average cross-validation score:\", cv_scores.mean())\n",
    "\n",
    "X_train, X_test, y_train, y_test = train_test_split(X, y, test_size=0.2, random_state=42, stratify=y)\n",
    "model.fit(X_train, y_train)\n",
    "y_pred = model.predict(X_test)\n",
    "\n",
    "# Evaluate the model:\n",
    "accuracy = accuracy_score(y_test, y_pred)\n",
    "conf_matrix = confusion_matrix(y_test, y_pred)\n",
    "\n",
    "print(\"Accuracy of the model on the test set:\", accuracy)\n",
    "print(\"\")\n",
    "print(\"Confusion Matrix:\\n\", conf_matrix)\n",
    "\n",
    "# Create a DataFrame with the test set and predictions:\n",
    "results_df = pd.DataFrame(X_test)\n",
    "results_df['Actual'] = y_test\n",
    "results_df['Predicted'] = y_pred\n",
    "\n",
    "# Filter the DataFrame to only include misclassified instances:\n",
    "misclassified = results_df[results_df['Actual'] != results_df['Predicted']]\n",
    "\n",
    "print(\"\")\n",
    "print(\"Misclassified instances:\")\n",
    "print(misclassified)\n"
   ]
  },
  {
   "cell_type": "markdown",
   "metadata": {},
   "source": [
    "# 2b191b6c"
   ]
  },
  {
   "cell_type": "code",
   "execution_count": 5,
   "metadata": {},
   "outputs": [
    {
     "name": "stdout",
     "output_type": "stream",
     "text": [
      "Cross-validated scores: [0.95       0.9        1.         1.         0.94736842]\n",
      "Average cross-validation score: 0.9594736842105263\n",
      "Accuracy of the model on the test set: 1.0\n",
      "\n",
      "Confusion Matrix:\n",
      " [[9 0 0]\n",
      " [0 9 0]\n",
      " [0 0 2]]\n",
      "\n",
      "Misclassified instances:\n",
      "Empty DataFrame\n",
      "Columns: [cerebellumL_x, cerebellumR_x, Actual, Predicted]\n",
      "Index: []\n"
     ]
    }
   ],
   "source": [
    "import pandas as pd\n",
    "from sklearn.model_selection import train_test_split, cross_val_score, KFold\n",
    "from sklearn.linear_model import LogisticRegression\n",
    "from sklearn.metrics import accuracy_score, confusion_matrix\n",
    "from sklearn.preprocessing import StandardScaler\n",
    "\n",
    "cerebellum = df\n",
    "cerebellum = cerebellum[cerebellum['cerebellum'] != 0]\n",
    "\n",
    "X = pd.concat([cerebellum['cerebellumL_x'], cerebellum['cerebellumR_x']], axis=1)\n",
    "y = cerebellum['cerebellum']\n",
    "\n",
    "# Set up cross-validation:\n",
    "kf = KFold(n_splits=5, shuffle=True, random_state=42)\n",
    "\n",
    "model = LogisticRegression(multi_class='multinomial', solver='lbfgs', max_iter=1000, class_weight='balanced')\n",
    "\n",
    "# Perform cross-validation:\n",
    "cv_scores = cross_val_score(model, X, y, cv=kf)\n",
    "\n",
    "# Print cross-validated scores:\n",
    "print(\"Cross-validated scores:\", cv_scores)\n",
    "print(\"Average cross-validation score:\", cv_scores.mean())\n",
    "\n",
    "X_train, X_test, y_train, y_test = train_test_split(X, y, test_size=0.2, random_state=42, stratify=y)\n",
    "model.fit(X_train, y_train)\n",
    "y_pred = model.predict(X_test)\n",
    "\n",
    "# Evaluate the model:\n",
    "accuracy = accuracy_score(y_test, y_pred)\n",
    "conf_matrix = confusion_matrix(y_test, y_pred)\n",
    "\n",
    "print(\"Accuracy of the model on the test set:\", accuracy)\n",
    "print(\"\")\n",
    "print(\"Confusion Matrix:\\n\", conf_matrix)\n",
    "\n",
    "# Create a DataFrame with the test set and predictions:\n",
    "results_df = pd.DataFrame(X_test)\n",
    "results_df['Actual'] = y_test\n",
    "results_df['Predicted'] = y_pred\n",
    "\n",
    "# Filter the DataFrame to only include misclassified instances:\n",
    "misclassified = results_df[results_df['Actual'] != results_df['Predicted']]\n",
    "\n",
    "print(\"\")\n",
    "print(\"Misclassified instances:\")\n",
    "print(misclassified)"
   ]
  }
 ],
 "metadata": {
  "kernelspec": {
   "display_name": "adsv13",
   "language": "python",
   "name": "python3"
  },
  "language_info": {
   "codemirror_mode": {
    "name": "ipython",
    "version": 3
   },
   "file_extension": ".py",
   "mimetype": "text/x-python",
   "name": "python",
   "nbconvert_exporter": "python",
   "pygments_lexer": "ipython3",
   "version": "3.11.0"
  }
 },
 "nbformat": 4,
 "nbformat_minor": 2
}
