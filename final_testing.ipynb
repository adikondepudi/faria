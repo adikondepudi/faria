{
 "cells": [
  {
   "cell_type": "markdown",
   "metadata": {},
   "source": [
    "### 1 is left unilateral\n",
    "### 2 is right unilateral\n",
    "### 3 is bilateral"
   ]
  },
  {
   "cell_type": "code",
   "execution_count": 6,
   "metadata": {},
   "outputs": [],
   "source": [
    "import pandas as pd\n",
    "\n",
    "df = pd.read_csv('complete_vol_visual_jun24.csv')"
   ]
  },
  {
   "cell_type": "code",
   "execution_count": 7,
   "metadata": {},
   "outputs": [
    {
     "name": "stdout",
     "output_type": "stream",
     "text": [
      "Cross-validated scores: [0.96428571 0.96428571 1.         0.88888889 0.92592593]\n",
      "Average cross-validation score: 0.9486772486772488\n",
      "Accuracy of the model on the test set: 0.9285714285714286\n",
      "\n",
      "Confusion Matrix:\n",
      " [[11  0  2]\n",
      " [ 0 13  0]\n",
      " [ 0  0  2]]\n",
      "\n",
      "Misclassified instances:\n",
      "     PCAL_x  PCAR_x  Actual  Predicted\n",
      "224   11533     543       1          3\n",
      "181    1960     862       1          3\n"
     ]
    }
   ],
   "source": [
    "import pandas as pd\n",
    "from sklearn.model_selection import train_test_split, cross_val_score, KFold\n",
    "from sklearn.linear_model import LogisticRegression\n",
    "from sklearn.metrics import accuracy_score, confusion_matrix\n",
    "from sklearn.preprocessing import StandardScaler\n",
    "\n",
    "PCA = df\n",
    "PCA = PCA[PCA['PCA'] != 0]\n",
    "\n",
    "X = pd.concat([PCA['PCAL_x'], PCA['PCAR_x']], axis=1)\n",
    "y = PCA['PCA']\n",
    "\n",
    "# Set up cross-validation:\n",
    "kf = KFold(n_splits=5, shuffle=True, random_state=42)\n",
    "\n",
    "model = LogisticRegression(multi_class='multinomial', solver='lbfgs', max_iter=1000, class_weight='balanced')\n",
    "\n",
    "# Perform cross-validation:\n",
    "cv_scores = cross_val_score(model, X, y, cv=kf)\n",
    "\n",
    "# Print cross-validated scores:\n",
    "print(\"Cross-validated scores:\", cv_scores)\n",
    "print(\"Average cross-validation score:\", cv_scores.mean())\n",
    "\n",
    "X_train, X_test, y_train, y_test = train_test_split(X, y, test_size=0.2, random_state=42, stratify=y)\n",
    "model.fit(X_train, y_train)\n",
    "y_pred = model.predict(X_test)\n",
    "\n",
    "# Evaluate the model:\n",
    "accuracy = accuracy_score(y_test, y_pred)\n",
    "conf_matrix = confusion_matrix(y_test, y_pred)\n",
    "\n",
    "print(\"Accuracy of the model on the test set:\", accuracy)\n",
    "print(\"\")\n",
    "print(\"Confusion Matrix:\\n\", conf_matrix)\n",
    "\n",
    "# Create a DataFrame with the test set and predictions:\n",
    "results_df = pd.DataFrame(X_test)\n",
    "results_df['Actual'] = y_test\n",
    "results_df['Predicted'] = y_pred\n",
    "\n",
    "# Filter the DataFrame to only include misclassified instances:\n",
    "misclassified = results_df[results_df['Actual'] != results_df['Predicted']]\n",
    "\n",
    "print(\"\")\n",
    "print(\"Misclassified instances:\")\n",
    "print(misclassified)\n"
   ]
  },
  {
   "cell_type": "markdown",
   "metadata": {},
   "source": [
    "### Misclassified PCA IDs\n",
    "#### sub-2bd4552c\n",
    "#### sub-1b7deaf6"
   ]
  },
  {
   "cell_type": "code",
   "execution_count": 8,
   "metadata": {},
   "outputs": [
    {
     "name": "stdout",
     "output_type": "stream",
     "text": [
      "Cross-validated scores: [0.90625 1.      1.      1.      1.     ]\n",
      "Average cross-validation score: 0.98125\n",
      "Accuracy of the model on the test set: 0.96875\n",
      "\n",
      "Confusion Matrix:\n",
      " [[16  0  0]\n",
      " [ 0 15  0]\n",
      " [ 1  0  0]]\n",
      "\n",
      "Misclassified instances:\n",
      "     ThalamusL_x  ThalamusR_x  Actual  Predicted\n",
      "465         2876          729       3          1\n"
     ]
    }
   ],
   "source": [
    "import pandas as pd\n",
    "from sklearn.model_selection import train_test_split, cross_val_score, KFold\n",
    "from sklearn.linear_model import LogisticRegression\n",
    "from sklearn.metrics import accuracy_score, confusion_matrix\n",
    "from sklearn.preprocessing import StandardScaler\n",
    "\n",
    "Thalamus = df\n",
    "Thalamus = Thalamus[Thalamus['Thalamus'] != 0]\n",
    "\n",
    "X = pd.concat([Thalamus['ThalamusL_x'], Thalamus['ThalamusR_x']], axis=1)\n",
    "y = Thalamus['Thalamus']\n",
    "\n",
    "# Set up cross-validation:\n",
    "kf = KFold(n_splits=5, shuffle=True, random_state=42)\n",
    "\n",
    "model = LogisticRegression(multi_class='multinomial', solver='lbfgs', max_iter=1000, class_weight='balanced')\n",
    "\n",
    "# Perform cross-validation:\n",
    "cv_scores = cross_val_score(model, X, y, cv=kf)\n",
    "\n",
    "# Print cross-validated scores:\n",
    "print(\"Cross-validated scores:\", cv_scores)\n",
    "print(\"Average cross-validation score:\", cv_scores.mean())\n",
    "\n",
    "X_train, X_test, y_train, y_test = train_test_split(X, y, test_size=0.2, random_state=42, stratify=y)\n",
    "model.fit(X_train, y_train)\n",
    "y_pred = model.predict(X_test)\n",
    "\n",
    "# Evaluate the model:\n",
    "accuracy = accuracy_score(y_test, y_pred)\n",
    "conf_matrix = confusion_matrix(y_test, y_pred)\n",
    "\n",
    "print(\"Accuracy of the model on the test set:\", accuracy)\n",
    "print(\"\")\n",
    "print(\"Confusion Matrix:\\n\", conf_matrix)\n",
    "\n",
    "# Create a DataFrame with the test set and predictions:\n",
    "results_df = pd.DataFrame(X_test)\n",
    "results_df['Actual'] = y_test\n",
    "results_df['Predicted'] = y_pred\n",
    "\n",
    "# Filter the DataFrame to only include misclassified instances:\n",
    "misclassified = results_df[results_df['Actual'] != results_df['Predicted']]\n",
    "\n",
    "print(\"\")\n",
    "print(\"Misclassified instances:\")\n",
    "print(misclassified)\n"
   ]
  },
  {
   "cell_type": "markdown",
   "metadata": {},
   "source": [
    "# 2b191b6c"
   ]
  },
  {
   "cell_type": "code",
   "execution_count": 9,
   "metadata": {},
   "outputs": [
    {
     "name": "stdout",
     "output_type": "stream",
     "text": [
      "Cross-validated scores: [0.95       0.9        1.         1.         0.94736842]\n",
      "Average cross-validation score: 0.9594736842105263\n",
      "Accuracy of the model on the test set: 1.0\n",
      "\n",
      "Confusion Matrix:\n",
      " [[9 0 0]\n",
      " [0 9 0]\n",
      " [0 0 2]]\n",
      "\n",
      "Misclassified instances:\n",
      "Empty DataFrame\n",
      "Columns: [cerebellumL_x, cerebellumR_x, Actual, Predicted]\n",
      "Index: []\n"
     ]
    }
   ],
   "source": [
    "import pandas as pd\n",
    "from sklearn.model_selection import train_test_split, cross_val_score, KFold\n",
    "from sklearn.linear_model import LogisticRegression\n",
    "from sklearn.metrics import accuracy_score, confusion_matrix\n",
    "from sklearn.preprocessing import StandardScaler\n",
    "\n",
    "cerebellum = df\n",
    "cerebellum = cerebellum[cerebellum['cerebellum'] != 0]\n",
    "\n",
    "X = pd.concat([cerebellum['cerebellumL_x'], cerebellum['cerebellumR_x']], axis=1)\n",
    "y = cerebellum['cerebellum']\n",
    "\n",
    "# Set up cross-validation:\n",
    "kf = KFold(n_splits=5, shuffle=True, random_state=42)\n",
    "\n",
    "model = LogisticRegression(multi_class='multinomial', solver='lbfgs', max_iter=1000, class_weight='balanced')\n",
    "\n",
    "# Perform cross-validation:\n",
    "cv_scores = cross_val_score(model, X, y, cv=kf)\n",
    "\n",
    "# Print cross-validated scores:\n",
    "print(\"Cross-validated scores:\", cv_scores)\n",
    "print(\"Average cross-validation score:\", cv_scores.mean())\n",
    "\n",
    "X_train, X_test, y_train, y_test = train_test_split(X, y, test_size=0.2, random_state=42, stratify=y)\n",
    "model.fit(X_train, y_train)\n",
    "y_pred = model.predict(X_test)\n",
    "\n",
    "# Evaluate the model:\n",
    "accuracy = accuracy_score(y_test, y_pred)\n",
    "conf_matrix = confusion_matrix(y_test, y_pred)\n",
    "\n",
    "print(\"Accuracy of the model on the test set:\", accuracy)\n",
    "print(\"\")\n",
    "print(\"Confusion Matrix:\\n\", conf_matrix)\n",
    "\n",
    "# Create a DataFrame with the test set and predictions:\n",
    "results_df = pd.DataFrame(X_test)\n",
    "results_df['Actual'] = y_test\n",
    "results_df['Predicted'] = y_pred\n",
    "\n",
    "# Filter the DataFrame to only include misclassified instances:\n",
    "misclassified = results_df[results_df['Actual'] != results_df['Predicted']]\n",
    "\n",
    "print(\"\")\n",
    "print(\"Misclassified instances:\")\n",
    "print(misclassified)\n"
   ]
  },
  {
   "cell_type": "code",
   "execution_count": 10,
   "metadata": {},
   "outputs": [],
   "source": [
    "# accuracy, conf tables, etc for each region\n",
    "# if cerebellum, thalamus, or pca, run bi or uni lateral\n",
    "# give aspects points\n",
    "# calculator accuracy, conf tables, etc one strict and one flexible (+- 1)\n",
    "# calculate accuracy among evalutors "
   ]
  }
 ],
 "metadata": {
  "kernelspec": {
   "display_name": "adsv13",
   "language": "python",
   "name": "python3"
  },
  "language_info": {
   "codemirror_mode": {
    "name": "ipython",
    "version": 3
   },
   "file_extension": ".py",
   "mimetype": "text/x-python",
   "name": "python",
   "nbconvert_exporter": "python",
   "pygments_lexer": "ipython3",
   "version": "3.11.0"
  }
 },
 "nbformat": 4,
 "nbformat_minor": 2
}
