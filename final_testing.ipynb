{
 "cells": [
  {
   "cell_type": "markdown",
   "metadata": {},
   "source": [
    "### 1 is left unilateral\n",
    "### 2 is right unilateral\n",
    "### 3 is bilateral"
   ]
  },
  {
   "cell_type": "code",
   "execution_count": 1,
   "metadata": {},
   "outputs": [],
   "source": [
    "import pandas as pd\n",
    "\n",
    "df = pd.read_csv('complete_vol_visual_jun24.csv')"
   ]
  },
  {
   "cell_type": "code",
   "execution_count": 2,
   "metadata": {},
   "outputs": [
    {
     "name": "stdout",
     "output_type": "stream",
     "text": [
      "Cross-validated scores: [0.89285714 0.92857143 1.         0.7037037  0.88888889]\n",
      "Average cross-validation score: 0.8828042328042329\n",
      "Accuracy of the model on the test set: 0.9285714285714286\n",
      "\n",
      "Confusion Matrix:\n",
      " [[13  0  0]\n",
      " [ 0 13  0]\n",
      " [ 2  0  0]]\n",
      "\n",
      "Misclassified instances:\n",
      "    PCAL_x  PCAR_x  Actual  Predicted\n",
      "4   2564.0  2301.0       3          1\n",
      "24  2587.0  2444.0       3          1\n"
     ]
    },
    {
     "data": {
      "text/plain": [
       "['PCA_scaler.pkl']"
      ]
     },
     "execution_count": 2,
     "metadata": {},
     "output_type": "execute_result"
    }
   ],
   "source": [
    "import pandas as pd\n",
    "import numpy as np\n",
    "from sklearn.model_selection import train_test_split, cross_val_score, KFold\n",
    "from sklearn.linear_model import LogisticRegression\n",
    "from sklearn.metrics import accuracy_score, confusion_matrix\n",
    "from sklearn.preprocessing import StandardScaler\n",
    "import joblib\n",
    "\n",
    "# Load and filter the data\n",
    "PCA = df\n",
    "PCA = PCA[PCA['PCA'] != 0]\n",
    "\n",
    "X = pd.concat([PCA['PCAL_x'], PCA['PCAR_x']], axis=1)\n",
    "y = PCA['PCA']\n",
    "\n",
    "# Standardize features:\n",
    "scaler = StandardScaler()\n",
    "X_scaled = scaler.fit_transform(X)\n",
    "\n",
    "# Set up cross-validation:\n",
    "kf = KFold(n_splits=5, shuffle=True, random_state=42)\n",
    "\n",
    "# Initialize the logistic regression model\n",
    "model = LogisticRegression(multi_class='multinomial', solver='lbfgs', max_iter=1000, class_weight='balanced')\n",
    "\n",
    "# Perform cross-validation:\n",
    "cv_scores = cross_val_score(model, X_scaled, y, cv=kf)\n",
    "\n",
    "# Print cross-validated scores:\n",
    "print(\"Cross-validated scores:\", cv_scores)\n",
    "print(\"Average cross-validation score:\", cv_scores.mean())\n",
    "\n",
    "# Split data into training and test sets\n",
    "X_train, X_test, y_train, y_test = train_test_split(X_scaled, y, test_size=0.2, random_state=42, stratify=y)\n",
    "model.fit(X_train, y_train)\n",
    "y_pred = model.predict(X_test)\n",
    "\n",
    "# Evaluate the model:\n",
    "accuracy = accuracy_score(y_test, y_pred)\n",
    "conf_matrix = confusion_matrix(y_test, y_pred)\n",
    "\n",
    "print(\"Accuracy of the model on the test set:\", accuracy)\n",
    "print(\"\")\n",
    "print(\"Confusion Matrix:\\n\", conf_matrix)\n",
    "\n",
    "# Reset the index of y_test to avoid index mismatch errors\n",
    "y_test = y_test.reset_index(drop=True)\n",
    "y_pred = pd.Series(y_pred)\n",
    "\n",
    "# Create a DataFrame with the test set and predictions, and undo the scaling:\n",
    "results_df = pd.DataFrame(scaler.inverse_transform(X_test), columns=['PCAL_x', 'PCAR_x'])\n",
    "results_df = results_df.reset_index(drop=True)  # Reset the index to align with y_test\n",
    "results_df['Actual'] = y_test\n",
    "results_df['Predicted'] = y_pred\n",
    "\n",
    "# Filter the DataFrame to only include misclassified instances:\n",
    "misclassified = results_df[results_df['Actual'] != results_df['Predicted']]\n",
    "\n",
    "print(\"\")\n",
    "print(\"Misclassified instances:\")\n",
    "print(misclassified)\n",
    "\n",
    "# Save the model and scaler for later use\n",
    "joblib.dump(model, 'PCA_logistic_regression_model.pkl')\n",
    "joblib.dump(scaler, 'PCA_scaler.pkl')\n"
   ]
  },
  {
   "cell_type": "markdown",
   "metadata": {},
   "source": [
    "### Misclassified PCA IDs\n",
    "#### sub-2bd4552c\n",
    "#### sub-1b7deaf6"
   ]
  },
  {
   "cell_type": "code",
   "execution_count": 3,
   "metadata": {},
   "outputs": [
    {
     "name": "stdout",
     "output_type": "stream",
     "text": [
      "Cross-validated scores: [0.96875 0.9375  0.96875 0.96875 1.     ]\n",
      "Average cross-validation score: 0.96875\n",
      "Accuracy of the model on the test set: 0.96875\n",
      "\n",
      "Confusion Matrix:\n",
      " [[16  0]\n",
      " [ 1 15]]\n",
      "\n",
      "Misclassified instances:\n",
      "    ThalamusL_x  ThalamusR_x  Actual  Predicted\n",
      "25          0.0         70.0       2          1\n"
     ]
    },
    {
     "data": {
      "text/plain": [
       "['Thalamus_scaler.pkl']"
      ]
     },
     "execution_count": 3,
     "metadata": {},
     "output_type": "execute_result"
    }
   ],
   "source": [
    "import pandas as pd\n",
    "import numpy as np\n",
    "from sklearn.model_selection import train_test_split, cross_val_score, KFold\n",
    "from sklearn.linear_model import LogisticRegression\n",
    "from sklearn.metrics import accuracy_score, confusion_matrix\n",
    "from sklearn.preprocessing import StandardScaler\n",
    "import joblib\n",
    "\n",
    "# Load and filter the data\n",
    "Thalamus = df\n",
    "Thalamus = Thalamus[Thalamus['Thalamus'] != 0]\n",
    "\n",
    "X = pd.concat([Thalamus['ThalamusL_x'], Thalamus['ThalamusR_x']], axis=1)\n",
    "y = Thalamus['Thalamus']\n",
    "\n",
    "# Standardize features:\n",
    "scaler = StandardScaler()\n",
    "X_scaled = scaler.fit_transform(X)\n",
    "\n",
    "# Set up cross-validation:\n",
    "kf = KFold(n_splits=5, shuffle=True, random_state=42)\n",
    "\n",
    "# Initialize the logistic regression model\n",
    "model = LogisticRegression(multi_class='multinomial', solver='lbfgs', max_iter=1000, class_weight='balanced')\n",
    "\n",
    "# Perform cross-validation:\n",
    "cv_scores = cross_val_score(model, X_scaled, y, cv=kf)\n",
    "\n",
    "# Print cross-validated scores:\n",
    "print(\"Cross-validated scores:\", cv_scores)\n",
    "print(\"Average cross-validation score:\", cv_scores.mean())\n",
    "\n",
    "# Split data into training and test sets\n",
    "X_train, X_test, y_train, y_test = train_test_split(X_scaled, y, test_size=0.2, random_state=42, stratify=y)\n",
    "model.fit(X_train, y_train)\n",
    "y_pred = model.predict(X_test)\n",
    "\n",
    "# Evaluate the model:\n",
    "accuracy = accuracy_score(y_test, y_pred)\n",
    "conf_matrix = confusion_matrix(y_test, y_pred)\n",
    "\n",
    "print(\"Accuracy of the model on the test set:\", accuracy)\n",
    "print(\"\")\n",
    "print(\"Confusion Matrix:\\n\", conf_matrix)\n",
    "\n",
    "# Reset the index of y_test to avoid index mismatch errors\n",
    "y_test = y_test.reset_index(drop=True)\n",
    "y_pred = pd.Series(y_pred)\n",
    "\n",
    "# Create a DataFrame with the test set and predictions, and undo the scaling:\n",
    "results_df = pd.DataFrame(scaler.inverse_transform(X_test), columns=['ThalamusL_x', 'ThalamusR_x'])\n",
    "results_df = results_df.reset_index(drop=True)  # Reset the index to align with y_test\n",
    "results_df['Actual'] = y_test\n",
    "results_df['Predicted'] = y_pred\n",
    "\n",
    "# Filter the DataFrame to only include misclassified instances:\n",
    "misclassified = results_df[results_df['Actual'] != results_df['Predicted']]\n",
    "\n",
    "print(\"\")\n",
    "print(\"Misclassified instances:\")\n",
    "print(misclassified)\n",
    "\n",
    "# Save the model and scaler for later use\n",
    "joblib.dump(model, 'Thalamus_logistic_regression_model.pkl')\n",
    "joblib.dump(scaler, 'Thalamus_scaler.pkl')\n"
   ]
  },
  {
   "cell_type": "markdown",
   "metadata": {},
   "source": [
    "# 2b191b6c"
   ]
  },
  {
   "cell_type": "code",
   "execution_count": 4,
   "metadata": {},
   "outputs": [
    {
     "name": "stdout",
     "output_type": "stream",
     "text": [
      "Cross-validated scores: [0.7        0.85       0.8        0.75       0.94736842]\n",
      "Average cross-validation score: 0.8094736842105263\n",
      "Accuracy of the model on the test set: 0.85\n",
      "\n",
      "Confusion Matrix:\n",
      " [[6 2 1]\n",
      " [0 9 0]\n",
      " [0 0 2]]\n",
      "\n",
      "Misclassified instances:\n",
      "   cerebellumL_x  cerebellumR_x  Actual  Predicted\n",
      "4            0.0          221.0       1          2\n",
      "6            0.0          593.0       1          3\n",
      "9            0.0           42.0       1          2\n"
     ]
    },
    {
     "data": {
      "text/plain": [
       "['cerebellum_scaler.pkl']"
      ]
     },
     "execution_count": 4,
     "metadata": {},
     "output_type": "execute_result"
    }
   ],
   "source": [
    "import pandas as pd\n",
    "import numpy as np\n",
    "from sklearn.model_selection import train_test_split, cross_val_score, KFold\n",
    "from sklearn.linear_model import LogisticRegression\n",
    "from sklearn.metrics import accuracy_score, confusion_matrix\n",
    "from sklearn.preprocessing import StandardScaler\n",
    "import joblib\n",
    "\n",
    "# Load and filter the data\n",
    "cerebellum = df\n",
    "cerebellum = cerebellum[cerebellum['cerebellum'] != 0]\n",
    "\n",
    "X = pd.concat([cerebellum['cerebellumL_x'], cerebellum['cerebellumR_x']], axis=1)\n",
    "y = cerebellum['cerebellum']\n",
    "\n",
    "# Standardize features:\n",
    "scaler = StandardScaler()\n",
    "X_scaled = scaler.fit_transform(X)\n",
    "\n",
    "# Set up cross-validation:\n",
    "kf = KFold(n_splits=5, shuffle=True, random_state=42)\n",
    "\n",
    "# Initialize the logistic regression model\n",
    "model = LogisticRegression(multi_class='multinomial', solver='lbfgs', max_iter=1000, class_weight='balanced')\n",
    "\n",
    "# Perform cross-validation:\n",
    "cv_scores = cross_val_score(model, X_scaled, y, cv=kf)\n",
    "\n",
    "# Print cross-validated scores:\n",
    "print(\"Cross-validated scores:\", cv_scores)\n",
    "print(\"Average cross-validation score:\", cv_scores.mean())\n",
    "\n",
    "# Split data into training and test sets\n",
    "X_train, X_test, y_train, y_test = train_test_split(X_scaled, y, test_size=0.2, random_state=42, stratify=y)\n",
    "model.fit(X_train, y_train)\n",
    "y_pred = model.predict(X_test)\n",
    "\n",
    "# Evaluate the model:\n",
    "accuracy = accuracy_score(y_test, y_pred)\n",
    "conf_matrix = confusion_matrix(y_test, y_pred)\n",
    "\n",
    "print(\"Accuracy of the model on the test set:\", accuracy)\n",
    "print(\"\")\n",
    "print(\"Confusion Matrix:\\n\", conf_matrix)\n",
    "\n",
    "# Reset the index of y_test to avoid index mismatch errors\n",
    "y_test = y_test.reset_index(drop=True)\n",
    "y_pred = pd.Series(y_pred)\n",
    "\n",
    "# Create a DataFrame with the test set and predictions, and undo the scaling:\n",
    "results_df = pd.DataFrame(scaler.inverse_transform(X_test), columns=['cerebellumL_x', 'cerebellumR_x'])\n",
    "results_df = results_df.reset_index(drop=True)  # Reset the index to align with y_test\n",
    "results_df['Actual'] = y_test\n",
    "results_df['Predicted'] = y_pred\n",
    "\n",
    "# Filter the DataFrame to only include misclassified instances:\n",
    "misclassified = results_df[results_df['Actual'] != results_df['Predicted']]\n",
    "\n",
    "print(\"\")\n",
    "print(\"Misclassified instances:\")\n",
    "print(misclassified)\n",
    "\n",
    "# Save the model and scaler for later use\n",
    "joblib.dump(model, 'cerebellum_logistic_regression_model.pkl')\n",
    "joblib.dump(scaler, 'cerebellum_scaler.pkl')\n"
   ]
  },
  {
   "cell_type": "code",
   "execution_count": 5,
   "metadata": {},
   "outputs": [],
   "source": [
    "# accuracy, conf tables, etc for each region\n",
    "# if cerebellum, thalamus, or pca, run bi or uni lateral\n",
    "# give aspects points\n",
    "# calculator accuracy, conf tables, etc one strict and one flexible (+- 1)\n",
    "# calculate accuracy among evalutors "
   ]
  }
 ],
 "metadata": {
  "kernelspec": {
   "display_name": "adsv13",
   "language": "python",
   "name": "python3"
  },
  "language_info": {
   "codemirror_mode": {
    "name": "ipython",
    "version": 3
   },
   "file_extension": ".py",
   "mimetype": "text/x-python",
   "name": "python",
   "nbconvert_exporter": "python",
   "pygments_lexer": "ipython3",
   "version": "3.11.0"
  }
 },
 "nbformat": 4,
 "nbformat_minor": 2
}
